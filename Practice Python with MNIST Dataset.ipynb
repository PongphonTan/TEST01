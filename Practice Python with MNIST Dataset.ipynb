{
 "cells": [
  {
   "cell_type": "markdown",
   "metadata": {},
   "source": [
    "# MNIST Dataset"
   ]
  },
  {
   "cell_type": "markdown",
   "metadata": {},
   "source": [
    "MNIST dataset (\"Modified National Institute of Standards and Technology\") contains a large set of handwritten digits which is widely used for training a machine to read human-written numbers (0-9)."
   ]
  },
  {
   "cell_type": "markdown",
   "metadata": {},
   "source": [
    "***\n",
    "**Disclaimer:** this work is inspired by my friends project and intentionally created for education purpose solely. So, datasets, materials and some code used in this project belong to their respective owners and I does not claim any right over them.\n",
    "***"
   ]
  },
  {
   "cell_type": "code",
   "execution_count": 4,
   "metadata": {},
   "outputs": [
    {
     "data": {
      "text/plain": [
       "array([  0,   0,   0,   0,   0,   0,   0,   0,   0,   0,   0,   0,   0,\n",
       "         0,   0,   0,   0,   0,   0,   0,   0,   0,   0,   0,   0,   0,\n",
       "         0,   0,   0,   0,   0,   0,   0,   0,   0,   0,   0,   0,   0,\n",
       "         0,   0,   0,   0,   0,   0,   0,   0,   0,   0,   0,   0,   0,\n",
       "         0,   0,   0,   0,   0,   0,   0,   0,   0,   0,   0,   0,   0,\n",
       "         0,   0,   0,   0,   0,   0,   0,   0,   0,   0,   0,   0,   0,\n",
       "         0,   0,   0,   0,   0,   0,   0,   0,   0,   0,   0,   0,   0,\n",
       "         0,   0,   0,   0,   0,   0,   0,   0,   0,   0,   0,   0,   0,\n",
       "         0,   0,   0,   0,   0,   0,   0,   0,   0,   0,   0,   0,   0,\n",
       "         0,   0,   0,   0,   0,   0,   0,   0,   0,   0,   0,   0,   0,\n",
       "         0,   4, 145,  98,   0,   0,   0,   0,   0,   0,   0,   0,   0,\n",
       "         0,   0,   0,   0,   0,   0,   0,   0,   0,   0,   0,   0,   0,\n",
       "         0,   0,   0,  60, 254, 102,   0,   0,   0,   0,   0,   0,   0,\n",
       "         0,   0,   0,   0,   0,   0,   0,   0,   0,   0,   0,   0,   0,\n",
       "         0,   0,   0,   0,   0, 126, 217,  16,   0,   0,   0,   0,   0,\n",
       "         0,   0,   0,   0,   0,   0,   0,   0,   0,   9,  60,   0,   0,\n",
       "         0,   0,   0,   0,   0,   0,   0, 126, 187,   0,   0,   0,   0,\n",
       "         0,   0,   0,   0,   0,   0,   0,   0,   0,   0,   0, 123, 181,\n",
       "         0,   0,   0,   0,   0,   0,   0,   0,   0, 221, 187,   0,   0,\n",
       "         0,   0,   0,   0,   0,   0,   0,   0,   0,   0,   0,   0,   0,\n",
       "       203, 181,   0,   0,   0,   0,   0,   0,   0,   0,  55, 247, 115,\n",
       "         0,   0,   0,   0,   0,   0,   0,   0,   0,   0,   0,   0,   0,\n",
       "         0,  74, 251,  86,   0,   0,   0,   0,   0,   0,   0,   0, 128,\n",
       "       253,  78,   0,   0,   0,   0,   0,   0,   0,   0,   0,   0,   0,\n",
       "         0,   0,   0, 152, 160,   0,   0,   0,   0,   0,   0,   0,   0,\n",
       "         0, 182, 208,   0,   0,   0,   0,   0,   0,   0,   0,   0,   0,\n",
       "         0,   0,   0,   0,  33, 244, 125,   0,   0,   0,   0,   0,   0,\n",
       "         0,   0,  27, 243, 129,   0,   0,   0,   0,   0,   0,   0,   0,\n",
       "         0,   0,   0,   0,   0,   0, 162, 254,  61,   0,   0,   0,   0,\n",
       "         0,   0,   0,   0,  53, 254, 109,   0,   0,   0,   0,   0,   0,\n",
       "         0,   0,   0,   0,   0,   0,   0,   0, 245, 255,  61,   0,   0,\n",
       "         0,   0,   0,   0,   0,   0, 219, 224,  16,   0,   0,   0,   0,\n",
       "         0,   0,   0,   0,   0,   0,   0,   0,   0,   0, 168, 254, 252,\n",
       "       250, 250, 250, 250, 250, 167, 146, 182, 254, 191,  11,   0,   0,\n",
       "         0,   0,   0,   0,   0,   0,   0,   0,   0,   0,   0,   0,   9,\n",
       "       138, 166, 166, 166, 166, 166, 166, 166, 166, 233, 231,  18,   0,\n",
       "         0,   0,   0,   0,   0,   0,   0,   0,   0,   0,   0,   0,   0,\n",
       "         0,   0,   0,   0,   0,   0,   0,   0,   0,   0,  40, 251, 167,\n",
       "         0,   0,   0,   0,   0,   0,   0,   0,   0,   0,   0,   0,   0,\n",
       "         0,   0,   0,   0,   0,   0,   0,   0,   0,   0,   0,   0,  42,\n",
       "       254,  45,   0,   0,   0,   0,   0,   0,   0,   0,   0,   0,   0,\n",
       "         0,   0,   0,   0,   0,   0,   0,   0,   0,   0,   0,   0,   0,\n",
       "         0, 144, 211,   8,   0,   0,   0,   0,   0,   0,   0,   0,   0,\n",
       "         0,   0,   0,   0,   0,   0,   0,   0,   0,   0,   0,   0,   0,\n",
       "         0,   0,  68, 253, 138,   0,   0,   0,   0,   0,   0,   0,   0,\n",
       "         0,   0,   0,   0,   0,   0,   0,   0,   0,   0,   0,   0,   0,\n",
       "         0,   0,   0,   0, 146, 219,   9,   0,   0,   0,   0,   0,   0,\n",
       "         0,   0,   0,   0,   0,   0,   0,   0,   0,   0,   0,   0,   0,\n",
       "         0,   0,   0,   0,   0,   0, 203, 222,  14,   0,   0,   0,   0,\n",
       "         0,   0,   0,   0,   0,   0,   0,   0,   0,   0,   0,   0,   0,\n",
       "         0,   0,   0,   0,   0,   0,   0,   0, 160, 220,  12,   0,   0,\n",
       "         0,   0,   0,   0,   0,   0,   0,   0,   0,   0,   0,   0,   0,\n",
       "         0,   0,   0,   0,   0,   0,   0,   0,   0,   0,   0,   0,   0,\n",
       "         0,   0,   0,   0,   0,   0,   0,   0,   0,   0,   0,   0,   0,\n",
       "         0,   0,   0,   0,   0,   0,   0,   0,   0,   0,   0,   0,   0,\n",
       "         0,   0,   0,   0,   0,   0,   0,   0,   0,   0,   0,   0,   0,\n",
       "         0,   0,   0,   0,   0,   0,   0,   0,   0,   0,   0,   0,   0,\n",
       "         0,   0,   0,   0,   0,   0,   0,   0,   0,   0,   0,   0,   0,\n",
       "         0,   0,   0,   0,   0,   0,   0,   0,   0,   0,   0,   0,   0,\n",
       "         0,   0,   0,   0,   0,   0,   0,   0,   0,   0,   0,   0,   0,\n",
       "         0,   0,   0,   0], dtype=int64)"
      ]
     },
     "execution_count": 4,
     "metadata": {},
     "output_type": "execute_result"
    }
   ],
   "source": [
    "import numpy\n",
    "\n",
    "features = numpy.load(\"features.npy\")\n",
    "labels = numpy.load(\"labels.npy\") #the target of each case i.e. number in range (0-9)\n",
    "\n",
    "# display the first case\n",
    "features[0]"
   ]
  },
  {
   "cell_type": "markdown",
   "metadata": {},
   "source": [
    "Each image contains 28x28 pixels with greyscale RGB codes (784 features with values ranging from 0 to 255) which can be visualized as an image using maplotlib."
   ]
  },
  {
   "cell_type": "code",
   "execution_count": 20,
   "metadata": {},
   "outputs": [],
   "source": [
    "import matplotlib.pyplot as plt\n",
    "%matplotlib inline\n",
    "\n",
    "def visualized(imageAsArray):\n",
    "    imageAsArray = imageAsArray.reshape(28, 28);\n",
    "    plt.imshow(imageAsArray, cmap='gray')\n",
    "    plt.show()"
   ]
  },
  {
   "cell_type": "code",
   "execution_count": 3,
   "metadata": {},
   "outputs": [
    {
     "data": {
      "image/png": "[encoded data removed]",
      "text/plain": [
       "<Figure size 432x288 with 1 Axes>"
      ]
     },
     "metadata": {
      "needs_background": "light"
     },
     "output_type": "display_data"
    }
   ],
   "source": [
    "# use the function visualized to display a handwritten digit case 1 (index 0)\n",
    "visualized(features[0])"
   ]
  },
  {
   "cell_type": "markdown",
   "metadata": {},
   "source": [
    "**import necessary library**"
   ]
  },
  {
   "cell_type": "code",
   "execution_count": 2,
   "metadata": {},
   "outputs": [],
   "source": [
    "from sklearn.model_selection import train_test_split\n",
    "\n",
    "from sklearn.dummy import DummyClassifier\n",
    "\n",
    "from sklearn.neighbors import KNeighborsClassifier\n",
    "from sklearn.tree import DecisionTreeClassifier\n",
    "from sklearn.linear_model import Perceptron\n",
    "from sklearn.linear_model import SGDClassifier\n",
    "\n",
    "from sklearn.metrics import accuracy_score"
   ]
  },
  {
   "cell_type": "markdown",
   "metadata": {},
   "source": [
    "# **PREPROCESSING**"
   ]
  },
  {
   "cell_type": "markdown",
   "metadata": {},
   "source": [
    "**Processing Catagorical data**\n",
    "\n",
    "***\n",
    "No need to use `LabelEncoder` because all Feature is *Continuous(Ratio) variable* not a Catagorical variable then no need further process step for catagorical data like `OneHotEncoder`\n",
    "***"
   ]
  },
  {
   "cell_type": "markdown",
   "metadata": {},
   "source": [
    "**checking Missing Value**"
   ]
  },
  {
   "cell_type": "code",
   "execution_count": 5,
   "metadata": {},
   "outputs": [
    {
     "name": "stdout",
     "output_type": "stream",
     "text": [
      "False\n",
      "False\n"
     ]
    }
   ],
   "source": [
    "print(numpy.isnan(numpy.sum(features)))\n",
    "print(numpy.isnan(numpy.sum(labels)))"
   ]
  },
  {
   "cell_type": "markdown",
   "metadata": {},
   "source": [
    "***\n",
    "Since this datasets have not contain `Nan`, We can skip to next process\n",
    "instead of Dealing with it\n",
    "***"
   ]
  },
  {
   "cell_type": "markdown",
   "metadata": {},
   "source": [
    "**Feature Scaling**"
   ]
  },
  {
   "cell_type": "markdown",
   "metadata": {},
   "source": [
    "***\n",
    "all 784 features in this datset is already in the same scale (0-255) *greyscale RGB codes*. So, we dont need to use Feature Scaling technique. Nevertheless, the labels dataset is already in a `numpy` array format. In conslusion, we dont make any preprocessing on this dataset\n",
    "***"
   ]
  },
  {
   "cell_type": "markdown",
   "metadata": {},
   "source": [
    "# **Partitioning a dataset**"
   ]
  },
  {
   "cell_type": "markdown",
   "metadata": {},
   "source": [
    "**Using Hold out method**\n",
    "Conventionally, we split a dataset into Training, Validation, and Test sets with proportion of train:validate:test be 60:20:20\n",
    "and set `random_state` parameter to some number which in this case be *42* for reproducible result.\n",
    "In addition, setting `satisfy` be *labels* to make our training (train and validate set) spliting represent the proportion of each class(0-9) in the lables."
   ]
  },
  {
   "cell_type": "code",
   "execution_count": 5,
   "metadata": {},
   "outputs": [],
   "source": [
    "#first split into 1. for train and validate 2. for test\n",
    "X_train_validate, X_test, y_train_validate, y_test = train_test_split \\\n",
    "(features, labels, test_size=0.20, random_state=42, stratify=labels)"
   ]
  },
  {
   "cell_type": "markdown",
   "metadata": {},
   "source": [
    "split the train dataset into train and validate dataset"
   ]
  },
  {
   "cell_type": "code",
   "execution_count": 6,
   "metadata": {},
   "outputs": [],
   "source": [
    "#second split into 1. for train 2. for validate to be able to further process\n",
    "X_train, X_validate, y_train, y_validate = train_test_split \\\n",
    "(X_train_validate, y_train_validate, test_size=0.25, random_state=42, \\\n",
    " stratify=y_train_validate)"
   ]
  },
  {
   "cell_type": "markdown",
   "metadata": {},
   "source": [
    "In conclusion, we use *Train set* to fit our candidate model, *Validate set* for model selection and tuning selected model's parameter and *Test set* to evaluate the optimized model."
   ]
  },
  {
   "cell_type": "markdown",
   "metadata": {},
   "source": [
    "# **Building a model**"
   ]
  },
  {
   "cell_type": "markdown",
   "metadata": {},
   "source": [
    "We try to fit training set with these following model having the default parameter  \n",
    "* K Nearest NeighborsClassifier\n",
    "* Decision Tree Classifier\n",
    "* Perceptron\n",
    "* Linear classifiers (SVM) with SGD training."
   ]
  },
  {
   "cell_type": "code",
   "execution_count": 7,
   "metadata": {},
   "outputs": [
    {
     "data": {
      "text/plain": [
       "KNeighborsClassifier(algorithm='auto', leaf_size=30, metric='minkowski',\n",
       "           metric_params=None, n_jobs=None, n_neighbors=5, p=2,\n",
       "           weights='uniform')"
      ]
     },
     "execution_count": 7,
     "metadata": {},
     "output_type": "execute_result"
    }
   ],
   "source": [
    "#**create the default version of kNN classifier\n",
    "kNN = KNeighborsClassifier()\n",
    "kNN.fit(X_train,y_train)"
   ]
  },
  {
   "cell_type": "code",
   "execution_count": 8,
   "metadata": {},
   "outputs": [],
   "source": [
    "#**create the default version of DT classifier\n",
    "DT = DecisionTreeClassifier(random_state=42)\n",
    "DT = DT.fit(X_train,y_train)"
   ]
  },
  {
   "cell_type": "code",
   "execution_count": 9,
   "metadata": {},
   "outputs": [
    {
     "name": "stderr",
     "output_type": "stream",
     "text": [
      "C:\\Users\\Pop\\Anaconda3\\lib\\site-packages\\sklearn\\linear_model\\stochastic_gradient.py:166: FutureWarning: max_iter and tol parameters have been added in Perceptron in 0.19. If both are left unset, they default to max_iter=5 and tol=None. If tol is not None, max_iter defaults to max_iter=1000. From 0.21, default max_iter will be 1000, and default tol will be 1e-3.\n",
      "  FutureWarning)\n"
     ]
    }
   ],
   "source": [
    "#**create the default version of PCT classifier\n",
    "PCT = Perceptron(random_state=42)\n",
    "PCT = PCT.fit(X_train,y_train)"
   ]
  },
  {
   "cell_type": "code",
   "execution_count": 10,
   "metadata": {},
   "outputs": [
    {
     "name": "stderr",
     "output_type": "stream",
     "text": [
      "C:\\Users\\Pop\\Anaconda3\\lib\\site-packages\\sklearn\\linear_model\\stochastic_gradient.py:166: FutureWarning: max_iter and tol parameters have been added in SGDClassifier in 0.19. If both are left unset, they default to max_iter=5 and tol=None. If tol is not None, max_iter defaults to max_iter=1000. From 0.21, default max_iter will be 1000, and default tol will be 1e-3.\n",
      "  FutureWarning)\n"
     ]
    }
   ],
   "source": [
    "#**create the default version of SGD classifier\n",
    "SGD = SGDClassifier(random_state=42)\n",
    "SGD = SGD.fit(X_train,y_train)"
   ]
  },
  {
   "cell_type": "markdown",
   "metadata": {},
   "source": [
    "In conclusion, we have built 4 models which we have selected with its default parameter that provided by `scikit-learn` package"
   ]
  },
  {
   "cell_type": "markdown",
   "metadata": {},
   "source": [
    "# **Evaluation Metric**"
   ]
  },
  {
   "cell_type": "markdown",
   "metadata": {},
   "source": [
    "We use *accuracy score* obtained form `accuracy_score` function as *Evaluation Metric* cause we dont use *k-Fold Cross-Validation* because it required significantly higher computational power and time.\n",
    "for Baseline, we use *majority baseline* to be the minimum accuracy score that model should achieve \n",
    "to be recognized that model can recognize some pattern in the dataset."
   ]
  },
  {
   "cell_type": "code",
   "execution_count": 11,
   "metadata": {},
   "outputs": [
    {
     "name": "stdout",
     "output_type": "stream",
     "text": [
      "majority baseline:  0.11224489795918367\n"
     ]
    }
   ],
   "source": [
    "DC = DummyClassifier(strategy=\"most_frequent\")\n",
    "DC.fit(X_train, y_train)\n",
    "DC.predict(X_validate)\n",
    "print(\"majority baseline: \",DC.score(X_validate, y_validate))"
   ]
  },
  {
   "cell_type": "markdown",
   "metadata": {},
   "source": [
    "**evaluate the model accuracy** by *comparing those fitted models accuracy* using the `accuracy_score` function by making each models predict the *validation set* moreover, we use the `accuracy_score` for **model selection**."
   ]
  },
  {
   "cell_type": "code",
   "execution_count": 12,
   "metadata": {},
   "outputs": [],
   "source": [
    "#make each model predict \"y_validate\"\n",
    "y_pred_kNN = kNN.predict(X_validate)\n",
    "y_pred_DT = DT.predict(X_validate)\n",
    "y_pred_PCT = PCT.predict(X_validate)\n",
    "y_pred_SGD = SGD.predict(X_validate)"
   ]
  },
  {
   "cell_type": "code",
   "execution_count": 14,
   "metadata": {},
   "outputs": [
    {
     "name": "stdout",
     "output_type": "stream",
     "text": [
      "accuracy_score:  0.9585034013605442\n"
     ]
    }
   ],
   "source": [
    "#for default kNN\n",
    "print(\"accuracy_score: \",accuracy_score(y_validate,y_pred_kNN))"
   ]
  },
  {
   "cell_type": "code",
   "execution_count": 15,
   "metadata": {},
   "outputs": [
    {
     "name": "stdout",
     "output_type": "stream",
     "text": [
      "accuracy_score:  0.8357142857142857\n"
     ]
    }
   ],
   "source": [
    "#for default DT\n",
    "print(\"accuracy_score: \",accuracy_score(y_validate,y_pred_DT))"
   ]
  },
  {
   "cell_type": "code",
   "execution_count": 16,
   "metadata": {},
   "outputs": [
    {
     "name": "stdout",
     "output_type": "stream",
     "text": [
      "accuracy_score:  0.8324829931972789\n"
     ]
    }
   ],
   "source": [
    "#for default PCT\n",
    "print(\"accuracy_score: \",accuracy_score(y_validate,y_pred_PCT))"
   ]
  },
  {
   "cell_type": "code",
   "execution_count": 17,
   "metadata": {},
   "outputs": [
    {
     "name": "stdout",
     "output_type": "stream",
     "text": [
      "accuracy_score:  0.8377551020408164\n"
     ]
    }
   ],
   "source": [
    "#for default SGD\n",
    "print(\"accuracy_score: \",accuracy_score(y_validate,y_pred_SGD))"
   ]
  },
  {
   "cell_type": "markdown",
   "metadata": {},
   "source": [
    "with `accuracy_score` function we can conclude that all 4 model with default parameter can achieve score at Which better than the *majority baseline* and the model that can achieve highest accuray score is **the default kNN model** which is selected to use"
   ]
  },
  {
   "cell_type": "markdown",
   "metadata": {},
   "source": [
    "# **Optimizing Model**"
   ]
  },
  {
   "cell_type": "markdown",
   "metadata": {},
   "source": [
    "using for loop to tune `n_neighbors` with *appropriate range of value* along with `metric` parameter *appropriate distance calculation method* and evaluate the result with `accuracy_score` function by make model predict on the *validation set*."
   ]
  },
  {
   "cell_type": "code",
   "execution_count": 18,
   "metadata": {},
   "outputs": [
    {
     "name": "stdout",
     "output_type": "stream",
     "text": [
      "n_neighbors: 1 metric: euclidean accuracy_score: 0.95510\n",
      "n_neighbors: 3 metric: euclidean accuracy_score: 0.95867\n",
      "n_neighbors: 7 metric: euclidean accuracy_score: 0.95595\n",
      "n_neighbors: 9 metric: euclidean accuracy_score: 0.95357\n",
      "n_neighbors: 1 metric: manhattan accuracy_score: 0.94711\n",
      "n_neighbors: 3 metric: manhattan accuracy_score: 0.95153\n",
      "n_neighbors: 5 metric: manhattan accuracy_score: 0.95102\n",
      "n_neighbors: 7 metric: manhattan accuracy_score: 0.94864\n",
      "n_neighbors: 9 metric: manhattan accuracy_score: 0.94694\n"
     ]
    }
   ],
   "source": [
    "#tuning 'n_neighbors' in range [1, 3, 5 ,7, 9]\n",
    "#tuning 'metric' for \"euclidean\" and \"manhattan\"\n",
    "#total 10 combination(-1)\n",
    "score_kNN_i_list = []\n",
    "for j in [\"euclidean\", \"manhattan\"]:\n",
    "    for i in numpy.arange(1, 10, 2):    \n",
    "        if i == 5 and j == \"euclidean\":\n",
    "            continue #skip, we already evaluate this equavalent case in default model setting\n",
    "        kNN_i = KNeighborsClassifier(n_neighbors = i, metric = j)\n",
    "        kNN_i.fit(X_train,y_train)\n",
    "        y_pred_kNN_i = kNN_i.predict(X_validate)\n",
    "        score_kNN_i = accuracy_score(y_validate,y_pred_kNN_i)\n",
    "        score_kNN_i_list.append(score_kNN_i)\n",
    "        print(\"n_neighbors: %i metric: %s accuracy_score: %0.5f\"\\\n",
    "              %(i, j, score_kNN_i))"
   ]
  },
  {
   "cell_type": "markdown",
   "metadata": {},
   "source": [
    "for case that `n_neighbors` be *5* and `metric` be *manhattan* we already optained from previously evaluate default kNN with `accuracy_score` be 0.9585034013605442"
   ]
  },
  {
   "cell_type": "code",
   "execution_count": 21,
   "metadata": {},
   "outputs": [
    {
     "data": {
      "text/plain": [
       "[0.9551020408163265,\n",
       " 0.9586734693877551,\n",
       " 0.955952380952381,\n",
       " 0.9535714285714286,\n",
       " 0.947108843537415,\n",
       " 0.951530612244898,\n",
       " 0.9510204081632653,\n",
       " 0.9486394557823129,\n",
       " 0.9469387755102041]"
      ]
     },
     "execution_count": 21,
     "metadata": {},
     "output_type": "execute_result"
    }
   ],
   "source": [
    "score_kNN_i_list"
   ]
  },
  {
   "cell_type": "code",
   "execution_count": 22,
   "metadata": {},
   "outputs": [],
   "source": [
    "score_kNN_i_list.insert(2, 0.9585034013605442) #insert the mentioned case's accuracy score into the list"
   ]
  },
  {
   "cell_type": "code",
   "execution_count": 23,
   "metadata": {},
   "outputs": [
    {
     "data": {
      "text/plain": [
       "[0.9551020408163265,\n",
       " 0.9586734693877551,\n",
       " 0.9585034013605442,\n",
       " 0.955952380952381,\n",
       " 0.9535714285714286,\n",
       " 0.947108843537415,\n",
       " 0.951530612244898,\n",
       " 0.9510204081632653,\n",
       " 0.9486394557823129,\n",
       " 0.9469387755102041]"
      ]
     },
     "execution_count": 23,
     "metadata": {},
     "output_type": "execute_result"
    }
   ],
   "source": [
    "score_kNN_i_list"
   ]
  },
  {
   "cell_type": "code",
   "execution_count": 25,
   "metadata": {},
   "outputs": [
    {
     "data": {
      "text/plain": [
       "[<matplotlib.lines.Line2D at 0x28590d2a710>]"
      ]
     },
     "execution_count": 25,
     "metadata": {},
     "output_type": "execute_result"
    },
    {
     "data": {
      "image/png": "[encoded data removed]",
      "text/plain": [
       "<Figure size 432x288 with 1 Axes>"
      ]
     },
     "metadata": {
      "needs_background": "light"
     },
     "output_type": "display_data"
    }
   ],
   "source": [
    "plt.plot([1, 3, 5 ,7, 9], score_kNN_i_list[0:5]) #\"euclidean\""
   ]
  },
  {
   "cell_type": "code",
   "execution_count": 26,
   "metadata": {},
   "outputs": [
    {
     "data": {
      "text/plain": [
       "[<matplotlib.lines.Line2D at 0x28590d9d358>]"
      ]
     },
     "execution_count": 26,
     "metadata": {},
     "output_type": "execute_result"
    },
    {
     "data": {
      "image/png": "[encoded data removed]",
      "text/plain": [
       "<Figure size 432x288 with 1 Axes>"
      ]
     },
     "metadata": {
      "needs_background": "light"
     },
     "output_type": "display_data"
    }
   ],
   "source": [
    "plt.plot([1, 3, 5 ,7, 9], score_kNN_i_list[5:10]) #\"manhattan\""
   ]
  },
  {
   "cell_type": "code",
   "execution_count": 27,
   "metadata": {},
   "outputs": [
    {
     "data": {
      "text/plain": [
       "[<matplotlib.lines.Line2D at 0x28590df5ac8>,\n",
       " <matplotlib.lines.Line2D at 0x28590df5c18>]"
      ]
     },
     "execution_count": 27,
     "metadata": {},
     "output_type": "execute_result"
    },
    {
     "data": {
      "image/png": "[encoded data removed]",
      "text/plain": [
       "<Figure size 432x288 with 1 Axes>"
      ]
     },
     "metadata": {
      "needs_background": "light"
     },
     "output_type": "display_data"
    }
   ],
   "source": [
    "plt.plot([1, 3, 5 ,7, 9], score_kNN_i_list[0:5],[1, 3, 5 ,7, 9], score_kNN_i_list[5:10]) #\"euclidean\", #\"manhattan\""
   ]
  },
  {
   "cell_type": "markdown",
   "metadata": {},
   "source": [
    "from the plotted graph for each combination of `n_neighbors` and distance `metric`\n",
    "against *accuracy score* since for `n_neighbors` the greater value the lower accuracy score in both `metric` be *euclidean* or *manhattan*. We conclude that in case, setting the `n_neighbors` be *3* and `metric` be *euclidean* give *best validation score*."
   ]
  },
  {
   "cell_type": "code",
   "execution_count": 29,
   "metadata": {},
   "outputs": [
    {
     "name": "stdout",
     "output_type": "stream",
     "text": [
      "the best validation score is 0.95867\n"
     ]
    }
   ],
   "source": [
    "print(\"the best validation score is %0.5f\" %(max(score_kNN_i_list)))"
   ]
  },
  {
   "cell_type": "code",
   "execution_count": 30,
   "metadata": {},
   "outputs": [],
   "source": [
    "#fit train dataset in kNN with optimal parameters\n",
    "kNN_Opt = KNeighborsClassifier(n_neighbors = 3, metric = \"euclidean\")\n",
    "kNN_Opt.fit(X_train,y_train)\n",
    "#make model predict the test dataset\n",
    "y_pred_kNN_Opt = kNN_Opt.predict(X_test)\n",
    "#evaluate with test dataset\n",
    "#accuracy_score:  0.957312925170068"
   ]
  },
  {
   "cell_type": "markdown",
   "metadata": {},
   "source": [
    "We conclude that our predictive model base from\n",
    "optimized kNN model can acheive"
   ]
  },
  {
   "cell_type": "code",
   "execution_count": 32,
   "metadata": {},
   "outputs": [
    {
     "name": "stdout",
     "output_type": "stream",
     "text": [
      "accuracy score: 0.95731\n"
     ]
    }
   ],
   "source": [
    "print(\"accuracy score: %0.5f\" %accuracy_score(y_test,y_pred_kNN_Opt))"
   ]
  },
  {
   "cell_type": "markdown",
   "metadata": {},
   "source": [
    "The *accuracy score* for the *test set* is slightly lower than the *accuracy score* for the *validation set* by approximately **0.00136**"
   ]
  }
 ],
 "metadata": {
  "kernelspec": {
   "display_name": "Python 3",
   "language": "python",
   "name": "python3"
  },
  "language_info": {
   "codemirror_mode": {
    "name": "ipython",
    "version": 3
   },
   "file_extension": ".py",
   "mimetype": "text/x-python",
   "name": "python",
   "nbconvert_exporter": "python",
   "pygments_lexer": "ipython3",
   "version": "3.7.3"
  }
 },
 "nbformat": 4,
 "nbformat_minor": 1
}
